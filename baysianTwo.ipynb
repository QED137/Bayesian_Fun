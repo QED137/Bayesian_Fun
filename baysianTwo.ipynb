{
 "cells": [
  {
   "cell_type": "code",
   "execution_count": 1,
   "metadata": {},
   "outputs": [
    {
     "data": {
      "application/vnd.jupyter.widget-view+json": {
       "model_id": "97511622f6894d5baa6afea087578559",
       "version_major": 2,
       "version_minor": 0
      },
      "text/plain": [
       "interactive(children=(Dropdown(description='Prior Type:', options=('Gaussian', 'Poisson', 'Uniform', 'Bernoull…"
      ]
     },
     "metadata": {},
     "output_type": "display_data"
    }
   ],
   "source": [
    "import numpy as np\n",
    "import scipy.stats as stats\n",
    "import matplotlib.pyplot as plt\n",
    "import seaborn as sns\n",
    "import ipywidgets as widgets\n",
    "from ipywidgets import interactive\n",
    "from IPython.display import display\n",
    "\n",
    "# Define function to generate data\n",
    "def generate_data(likelihood_mean, likelihood_std, data_size):\n",
    "    return np.random.normal(likelihood_mean, likelihood_std, data_size)\n",
    "\n",
    "# Define function to get the prior distribution\n",
    "def get_prior(prior_type, param1, param2):\n",
    "    if prior_type == 'Gaussian':\n",
    "        return stats.norm(param1, param2)\n",
    "    elif prior_type == 'Poisson':\n",
    "        return stats.poisson(param1)\n",
    "    elif prior_type == 'Uniform':\n",
    "        return stats.uniform(param1, param2)\n",
    "    elif prior_type == 'Bernoulli':\n",
    "        return stats.bernoulli(param1)\n",
    "    else:\n",
    "        raise ValueError(\"Unsupported prior distribution type\")\n",
    "\n",
    "# Define Bayesian update function\n",
    "def bayesian_update(prior_type, param1, param2, likelihood_mean, likelihood_std, data_size):\n",
    "    data = generate_data(likelihood_mean, likelihood_std, data_size)\n",
    "    prior = get_prior(prior_type, param1, param2)\n",
    "    \n",
    "    if prior_type == 'Gaussian':\n",
    "        prior_mean = param1\n",
    "        prior_std = param2\n",
    "        posterior_mean = (prior_mean / (prior_std ** 2) + np.sum(data) / (likelihood_std ** 2)) / (1 / (prior_std ** 2) + len(data) / (likelihood_std ** 2))\n",
    "        posterior_std = np.sqrt(1 / (1 / (prior_std ** 2) + len(data) / (likelihood_std ** 2)))\n",
    "        posterior = stats.norm(posterior_mean, posterior_std)\n",
    "    elif prior_type == 'Poisson':\n",
    "        posterior_mean = (param1 + np.sum(data)) / (1 + len(data))\n",
    "        posterior = stats.poisson(posterior_mean)\n",
    "    elif prior_type == 'Uniform':\n",
    "        a = param1\n",
    "        b = param1 + param2\n",
    "        posterior_mean = (np.mean(data) + a + b) / 3\n",
    "        posterior = stats.uniform(a, b - a)\n",
    "    elif prior_type == 'Bernoulli':\n",
    "        p = (param1 + np.sum(data)) / (1 + len(data))\n",
    "        posterior = stats.bernoulli(p)\n",
    "        posterior_mean = posterior.mean()\n",
    "    else:\n",
    "        raise ValueError(\"Unsupported prior distribution type\")\n",
    "\n",
    "    # Plotting\n",
    "    x = np.linspace(-10, 10, 1000)\n",
    "    plt.figure(figsize=(10, 6))\n",
    "    if prior_type in ['Gaussian', 'Uniform']:\n",
    "        plt.plot(x, prior.pdf(x), label='Prior', color='blue')\n",
    "        plt.plot(x, posterior.pdf(x), label='Posterior', color='red')\n",
    "    elif prior_type == 'Poisson':\n",
    "        plt.vlines(x, 0, prior.pmf(x), label='Prior', color='blue')\n",
    "        plt.vlines(x, 0, posterior.pmf(x), label='Posterior', color='red')\n",
    "    elif prior_type == 'Bernoulli':\n",
    "        plt.vlines([0, 1], 0, prior.pmf([0, 1]), label='Prior', color='blue')\n",
    "        plt.vlines([0, 1], 0, posterior.pmf([0, 1]), label='Posterior', color='red')\n",
    "    plt.hist(data, bins=30, density=True, alpha=0.5, label='Data', color='gray')\n",
    "    plt.legend()\n",
    "    plt.title('Bayesian Update')\n",
    "    plt.xlabel('Parameter value')\n",
    "    plt.ylabel('Density')\n",
    "    plt.show()\n",
    "\n",
    "    return posterior_mean\n",
    "\n",
    "# Create widgets\n",
    "prior_type_dropdown = widgets.Dropdown(options=['Gaussian', 'Poisson', 'Uniform', 'Bernoulli'], description='Prior Type:')\n",
    "param1_slider = widgets.FloatSlider(value=0, min=-5, max=5, step=0.1, description='Param 1:')\n",
    "param2_slider = widgets.FloatSlider(value=1, min=0.1, max=5, step=0.1, description='Param 2:')\n",
    "likelihood_mean_slider = widgets.FloatSlider(value=0, min=-5, max=5, step=0.1, description='Likelihood Mean:')\n",
    "likelihood_std_slider = widgets.FloatSlider(value=1, min=0.1, max=5, step=0.1, description='Likelihood Std:')\n",
    "data_size_slider = widgets.IntSlider(value=100, min=10, max=500, step=10, description='Data Size:')\n",
    "\n",
    "# Define a function to update the plot based on widget values\n",
    "def update_plot(prior_type, param1, param2, likelihood_mean, likelihood_std, data_size):\n",
    "    bayesian_update(prior_type, param1, param2, likelihood_mean, likelihood_std, data_size)\n",
    "\n",
    "# Create interactive plot\n",
    "interactive_plot = interactive(update_plot, prior_type=prior_type_dropdown, param1=param1_slider,\n",
    "                               param2=param2_slider, likelihood_mean=likelihood_mean_slider,\n",
    "                               likelihood_std=likelihood_std_slider, data_size=data_size_slider)\n",
    "\n",
    "# Display the interactive plot\n",
    "display(interactive_plot)\n"
   ]
  }
 ],
 "metadata": {
  "kernelspec": {
   "display_name": "env",
   "language": "python",
   "name": "python3"
  },
  "language_info": {
   "codemirror_mode": {
    "name": "ipython",
    "version": 3
   },
   "file_extension": ".py",
   "mimetype": "text/x-python",
   "name": "python",
   "nbconvert_exporter": "python",
   "pygments_lexer": "ipython3",
   "version": "3.10.12"
  }
 },
 "nbformat": 4,
 "nbformat_minor": 2
}
